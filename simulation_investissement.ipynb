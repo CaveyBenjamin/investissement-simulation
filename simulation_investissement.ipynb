{
 "cells": [
  {
   "cell_type": "markdown",
   "id": "4daefb61",
   "metadata": {},
   "source": [
    "\n",
    "# Simulation d’investissement – intérêts composés (Python)\n",
    "\n",
    "Ce notebook illustre l’évolution d’un capital avec **versements mensuels** et **intérêts composés**.\n",
    "- Convention par défaut : **versement en début de mois** (modulable).\n",
    "- Taux annuel converti en **taux mensuel** : `taux_annuel / 12 / 100`.\n",
    "\n",
    "> Projet pédagogique (L3 Économie) en vue d'un Master Data Science.\n"
   ]
  },
  {
   "cell_type": "code",
   "execution_count": null,
   "id": "9a51f63d",
   "metadata": {},
   "outputs": [],
   "source": [
    "\n",
    "from src.investissement import investissement, investissement_mensuel\n",
    "import pandas as pd\n",
    "import matplotlib.pyplot as plt\n"
   ]
  },
  {
   "cell_type": "markdown",
   "id": "a2d52fe1",
   "metadata": {},
   "source": [
    "## Paramètres"
   ]
  },
  {
   "cell_type": "code",
   "execution_count": null,
   "id": "ef97acb8",
   "metadata": {},
   "outputs": [],
   "source": [
    "\n",
    "capital_initial = 1000.0\n",
    "taux_annuel_pct = 5.0\n",
    "nb_annees = 10\n",
    "versement_mensuel = 100.0\n",
    "versement_debut_mois = True  # True = début de mois, False = fin de mois\n"
   ]
  },
  {
   "cell_type": "markdown",
   "id": "86080139",
   "metadata": {},
   "source": [
    "## Résultats annuels"
   ]
  },
  {
   "cell_type": "code",
   "execution_count": null,
   "id": "ec787f74",
   "metadata": {},
   "outputs": [],
   "source": [
    "\n",
    "annuels = investissement(capital_initial, taux_annuel_pct, nb_annees, versement_mensuel, versement_debut_mois)\n",
    "df_annuel = pd.DataFrame(annuels, columns=[\"Année\", \"Capital (€)\"])\n",
    "df_annuel\n"
   ]
  },
  {
   "cell_type": "code",
   "execution_count": null,
   "id": "5e829b6a",
   "metadata": {},
   "outputs": [],
   "source": [
    "\n",
    "plt.figure()\n",
    "plt.plot(df_annuel[\"Année\"], df_annuel[\"Capital (€)\"], marker=\"o\")\n",
    "plt.title(\"Évolution du capital (annuelle)\")\n",
    "plt.xlabel(\"Année\")\n",
    "plt.ylabel(\"Capital (€)\")\n",
    "plt.grid(True)\n",
    "plt.show()\n"
   ]
  },
  {
   "cell_type": "markdown",
   "id": "fb2b7784",
   "metadata": {},
   "source": [
    "## Résultats mensuels (aperçu)"
   ]
  },
  {
   "cell_type": "code",
   "execution_count": null,
   "id": "b14fe195",
   "metadata": {},
   "outputs": [],
   "source": [
    "\n",
    "mensuels = investissement_mensuel(capital_initial, taux_annuel_pct, nb_annees, versement_mensuel, versement_debut_mois)\n",
    "df_mensuel = pd.DataFrame(mensuels)\n",
    "df_mensuel.head(12)\n"
   ]
  },
  {
   "cell_type": "code",
   "execution_count": null,
   "id": "c3d24d43",
   "metadata": {},
   "outputs": [],
   "source": [
    "\n",
    "plt.figure()\n",
    "plt.plot(df_mensuel[\"mois_absolu\"], df_mensuel[\"capital\"])\n",
    "plt.title(\"Évolution du capital (mensuelle)\")\n",
    "plt.xlabel(\"Mois\")\n",
    "plt.ylabel(\"Capital (€)\")\n",
    "plt.grid(True)\n",
    "plt.show()\n"
   ]
  }
 ],
 "metadata": {},
 "nbformat": 4,
 "nbformat_minor": 5
}
